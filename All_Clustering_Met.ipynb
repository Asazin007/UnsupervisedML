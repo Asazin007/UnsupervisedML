{
  "cells": [
    {
      "cell_type": "markdown",
      "metadata": {
        "id": "view-in-github",
        "colab_type": "text"
      },
      "source": [
        "<a href=\"https://colab.research.google.com/github/Asazin007/UnsupervisedML/blob/main/All_Clustering_Met.ipynb\" target=\"_parent\"><img src=\"https://colab.research.google.com/assets/colab-badge.svg\" alt=\"Open In Colab\"/></a>"
      ]
    },
    {
      "cell_type": "code",
      "execution_count": 13,
      "metadata": {
        "id": "MRUSZPIm6Mym"
      },
      "outputs": [],
      "source": [
        "from sklearn.cluster import KMeans\n",
        "from sklearn.metrics import silhouette_score\n",
        "import matplotlib.pyplot as plt\n",
        "import numpy as np"
      ]
    },
    {
      "cell_type": "code",
      "execution_count": 14,
      "metadata": {
        "id": "-XBj1Wql6OMt"
      },
      "outputs": [],
      "source": [
        "data = np.array([[3, 7], [9, 8], [5, 4], [2, 6], [5,6]])\n",
        "labels = np.array([0, 0, 1, 1, 1])"
      ]
    },
    {
      "cell_type": "markdown",
      "metadata": {
        "id": "20dIlQ576bKG"
      },
      "source": [
        "Silhouette Score"
      ]
    },
    {
      "cell_type": "code",
      "execution_count": 15,
      "metadata": {
        "colab": {
          "base_uri": "https://localhost:8080/"
        },
        "id": "1gmKSIx16WSY",
        "outputId": "4655843d-365c-40bd-f7b8-5d0b62359b11"
      },
      "outputs": [
        {
          "output_type": "stream",
          "name": "stdout",
          "text": [
            "The average silhouette score is: 0.04826512411008396\n"
          ]
        }
      ],
      "source": [
        "Silhouette_Score = silhouette_score(data, labels)\n",
        "print(\"The average silhouette score is:\", Silhouette_Score)"
      ]
    },
    {
      "cell_type": "markdown",
      "metadata": {
        "id": "87Jtrgaj6h8D"
      },
      "source": [
        "Davies-Bouldin Index"
      ]
    },
    {
      "cell_type": "code",
      "execution_count": 16,
      "metadata": {
        "id": "dg9qqtKW6fdc"
      },
      "outputs": [],
      "source": [
        "from sklearn.metrics import davies_bouldin_score\n",
        "data1 = np.array([[6, 8], [9, 5], [5, 4], [2, 6], [5,6], [3,4]])\n",
        "labels1 = np.array([0, 0, 1, 1, 1, 0])"
      ]
    },
    {
      "cell_type": "code",
      "execution_count": 17,
      "metadata": {
        "colab": {
          "base_uri": "https://localhost:8080/"
        },
        "id": "Y-0ITl3w6kVt",
        "outputId": "53144ae0-88a4-411e-9251-65d836a79b5f"
      },
      "outputs": [
        {
          "output_type": "stream",
          "name": "stdout",
          "text": [
            "Davies-Bouldin Index: 2.271187418964207\n"
          ]
        }
      ],
      "source": [
        "davies_bouldin_index = davies_bouldin_score(data1, labels1)\n",
        "print(\"Davies-Bouldin Index:\", davies_bouldin_index)"
      ]
    },
    {
      "cell_type": "markdown",
      "metadata": {
        "id": "CC6dHahB6rsA"
      },
      "source": [
        "DUNN Index"
      ]
    },
    {
      "cell_type": "code",
      "execution_count": 18,
      "metadata": {
        "colab": {
          "base_uri": "https://localhost:8080/"
        },
        "id": "5gt1nGM76oJp",
        "outputId": "2b85435a-f4a3-4bd7-fdb9-00df96828c81"
      },
      "outputs": [
        {
          "output_type": "stream",
          "name": "stdout",
          "text": [
            "Dunn Index: 0.18181818181818182\n"
          ]
        }
      ],
      "source": [
        "from scipy.spatial.distance import euclidean, pdist, squareform # pdist calculates the Pairwise distances\n",
        "#Squareform converts a vector-form distance vector to a square-form distance matrix\n",
        "data = np.array([[12, 13], [13, 14], [14, 15], [18, 19], [19, 20]])\n",
        "\n",
        "cluster_assignments = np.array([0, 0, 0, 1, 1])\n",
        "\n",
        "inter_cluster_distances = pdist(data, metric='euclidean')\n",
        "\n",
        "cluster_centers = [np.mean(data[cluster_assignments == c], axis=0) for c in np.unique(cluster_assignments)]\n",
        "average_center_distances = np.mean(pdist(cluster_centers, metric='euclidean'))\n",
        "\n",
        "dunn_index = np.min(inter_cluster_distances) / average_center_distances\n",
        "\n",
        "print(\"Dunn Index:\", dunn_index)"
      ]
    },
    {
      "cell_type": "markdown",
      "metadata": {
        "id": "tCCaxTLF6y0R"
      },
      "source": [
        "NMI"
      ]
    },
    {
      "cell_type": "code",
      "execution_count": 19,
      "metadata": {
        "colab": {
          "base_uri": "https://localhost:8080/"
        },
        "id": "iM_e9wFt6xCx",
        "outputId": "c3f5f877-f7dc-49bc-8245-4b36cbe81263"
      },
      "outputs": [
        {
          "output_type": "stream",
          "name": "stdout",
          "text": [
            "Normalized Mutual Information score: 0.6666666666666666\n"
          ]
        }
      ],
      "source": [
        "from sklearn.metrics import normalized_mutual_info_score\n",
        "\n",
        "data = np.array([[1, 2], [4, 5], [7, 8], [9, 10]])\n",
        "true_labels = np.array([0, 1, 0, 2])\n",
        "predicted_labels = np.array([1, 1, 2, 0])\n",
        "\n",
        "# Calculate Normalized Mutual Information\n",
        "nmi = normalized_mutual_info_score(true_labels, predicted_labels)\n",
        "\n",
        "print(\"Normalized Mutual Information score:\", nmi)"
      ]
    },
    {
      "cell_type": "markdown",
      "metadata": {
        "id": "A0lEIYD-65jt"
      },
      "source": [
        "ARI\n"
      ]
    },
    {
      "cell_type": "code",
      "execution_count": 20,
      "metadata": {
        "colab": {
          "base_uri": "https://localhost:8080/"
        },
        "id": "zUpBr3jC62To",
        "outputId": "0503bc21-fd2a-429a-a81d-06721fce07b8"
      },
      "outputs": [
        {
          "output_type": "stream",
          "name": "stdout",
          "text": [
            "Adjusted Rand Index: 0.4444444444444444\n"
          ]
        }
      ],
      "source": [
        "from sklearn.metrics import adjusted_rand_score\n",
        "data= np.array([[1,2], [4,5], [6,7], [8,9], [10, 11], [12,13]])\n",
        "true_labels = np.array([0, 0, 1, 1, 2, 2])\n",
        "predicted_labels = np.array([0, 0, 0, 1, 2, 2])\n",
        "\n",
        "# Calculate Adjusted Rand Index\n",
        "ari = adjusted_rand_score(true_labels, predicted_labels)\n",
        "\n",
        "print(\"Adjusted Rand Index:\", ari)"
      ]
    },
    {
      "cell_type": "markdown",
      "metadata": {
        "id": "upYtbydb6_HG"
      },
      "source": [
        "Homogineity"
      ]
    },
    {
      "cell_type": "code",
      "execution_count": 21,
      "metadata": {
        "colab": {
          "base_uri": "https://localhost:8080/"
        },
        "id": "29AGFXnJ67Jj",
        "outputId": "f8468c18-383d-4156-c0a8-a88b47d7f08b"
      },
      "outputs": [
        {
          "output_type": "stream",
          "name": "stdout",
          "text": [
            "Homogeneity Score: 0.5\n"
          ]
        }
      ],
      "source": [
        "from sklearn.metrics import homogeneity_score\n",
        "data= np.array([[1,2], [4,5], [6,7], [8,9], [10, 11], [12,13]])\n",
        "true_labels = np.array([0, 0, 1, 1, 2, 2])\n",
        "predicted_labels = np.array([0, 0, 0, 1, 1, 2])\n",
        "\n",
        "# Calculate Homogeneity Score\n",
        "homogeneity = homogeneity_score(true_labels, predicted_labels)\n",
        "\n",
        "print(\"Homogeneity Score:\", homogeneity)\n"
      ]
    },
    {
      "cell_type": "markdown",
      "source": [
        "Completeness Score"
      ],
      "metadata": {
        "id": "qx-pC8td8gPn"
      }
    },
    {
      "cell_type": "code",
      "source": [
        "from sklearn.metrics import completeness_score\n",
        "\n",
        "data= np.array([[1,2], [4,5], [6,7], [8,9], [10, 11], [12,13]])\n",
        "true_labels = np.array([0, 0, 1, 1, 2, 2])\n",
        "predicted_labels = np.array([0, 0, 0, 1, 2, 2])\n",
        "\n",
        "# Calculate Completeness Score\n",
        "completeness = completeness_score(true_labels, predicted_labels)\n",
        "\n",
        "print(\"Completeness Score:\", completeness)\n"
      ],
      "metadata": {
        "colab": {
          "base_uri": "https://localhost:8080/"
        },
        "id": "EodMM8N88klM",
        "outputId": "60ed6424-74e1-4e07-fbf7-7c0a46cebab1"
      },
      "execution_count": 22,
      "outputs": [
        {
          "output_type": "stream",
          "name": "stdout",
          "text": [
            "Completeness Score: 0.7715561736794712\n"
          ]
        }
      ]
    },
    {
      "cell_type": "markdown",
      "source": [
        "V_measure"
      ],
      "metadata": {
        "id": "fLzKb-hh8q-T"
      }
    },
    {
      "cell_type": "code",
      "source": [
        "from sklearn.metrics import v_measure_score\n",
        "\n",
        "data= np.array([[1,2], [4,5], [6,7], [8,9], [10, 11], [12,13]])\n",
        "true_labels = np.array([0, 0, 1, 1, 2, 2])\n",
        "predicted_labels = np.array([0, 0, 0, 1, 2, 2])\n",
        "\n",
        "# Calculate V-Measure Score\n",
        "v_measure = v_measure_score(true_labels, predicted_labels)\n",
        "\n",
        "print(\"V-Measure Score:\", v_measure)\n"
      ],
      "metadata": {
        "colab": {
          "base_uri": "https://localhost:8080/"
        },
        "id": "IUgzmFUN8os3",
        "outputId": "d76990a1-a232-4364-a703-f3aeb97be7c0"
      },
      "execution_count": 23,
      "outputs": [
        {
          "output_type": "stream",
          "name": "stdout",
          "text": [
            "V-Measure Score: 0.739667376800759\n"
          ]
        }
      ]
    },
    {
      "cell_type": "markdown",
      "source": [
        "fowlkes_mallows_score"
      ],
      "metadata": {
        "id": "pK61CKxd80Hc"
      }
    },
    {
      "cell_type": "code",
      "source": [
        "from sklearn.metrics import fowlkes_mallows_score\n",
        "\n",
        "data= np.array([[1,2], [4,5], [6,7], [8,9], [10, 11], [12,13]])\n",
        "true_labels = np.array([0, 0, 1, 1, 2, 2])\n",
        "predicted_labels = np.array([0, 0, 0, 1, 2, 2])\n",
        "\n",
        "# Calculate Fowlkes-Mallows Score\n",
        "fmi = fowlkes_mallows_score(true_labels, predicted_labels)\n",
        "\n",
        "print(\"Fowlkes-Mallows Score:\", fmi)"
      ],
      "metadata": {
        "colab": {
          "base_uri": "https://localhost:8080/"
        },
        "id": "_RrKtmr98tYC",
        "outputId": "62fef38c-5372-48cb-e558-b186093e14ea"
      },
      "execution_count": 24,
      "outputs": [
        {
          "output_type": "stream",
          "name": "stdout",
          "text": [
            "Fowlkes-Mallows Score: 0.5773502691896258\n"
          ]
        }
      ]
    },
    {
      "cell_type": "markdown",
      "source": [
        "Adjusted Mutual Information"
      ],
      "metadata": {
        "id": "xPsC1VuC85sh"
      }
    },
    {
      "cell_type": "code",
      "source": [
        "from sklearn.metrics import adjusted_mutual_info_score\n",
        "\n",
        "data= np.array([[1,2], [4,5], [6,7], [8,9], [10, 11], [12,13]])\n",
        "true_labels = np.array([0, 0, 1, 1, 2, 2])\n",
        "predicted_labels = np.array([0, 0, 0, 1, 2, 2])\n",
        "\n",
        "# Calculate Adjusted Mutual Information\n",
        "ami = adjusted_mutual_info_score(true_labels, predicted_labels)\n",
        "\n",
        "print(\"Adjusted Mutual Information:\", ami)\n"
      ],
      "metadata": {
        "colab": {
          "base_uri": "https://localhost:8080/"
        },
        "id": "i8XlYFjh833_",
        "outputId": "8c937bf4-bd9d-4816-e661-5afb51e7bf11"
      },
      "execution_count": 25,
      "outputs": [
        {
          "output_type": "stream",
          "name": "stdout",
          "text": [
            "Adjusted Mutual Information: 0.5023607027202738\n"
          ]
        }
      ]
    },
    {
      "cell_type": "code",
      "source": [],
      "metadata": {
        "id": "llq3-n1o88_i"
      },
      "execution_count": null,
      "outputs": []
    }
  ],
  "metadata": {
    "colab": {
      "provenance": [],
      "authorship_tag": "ABX9TyOvIvPLcfLj91sbUNVluWhO",
      "include_colab_link": true
    },
    "kernelspec": {
      "display_name": "Python 3",
      "name": "python3"
    },
    "language_info": {
      "name": "python"
    }
  },
  "nbformat": 4,
  "nbformat_minor": 0
}