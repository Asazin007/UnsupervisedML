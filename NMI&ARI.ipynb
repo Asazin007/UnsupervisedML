{
  "nbformat": 4,
  "nbformat_minor": 0,
  "metadata": {
    "colab": {
      "provenance": [],
      "authorship_tag": "ABX9TyNaN+noYankRr5oQYk5O3za",
      "include_colab_link": true
    },
    "kernelspec": {
      "name": "python3",
      "display_name": "Python 3"
    },
    "language_info": {
      "name": "python"
    }
  },
  "cells": [
    {
      "cell_type": "markdown",
      "metadata": {
        "id": "view-in-github",
        "colab_type": "text"
      },
      "source": [
        "<a href=\"https://colab.research.google.com/github/Asazin007/UnsupervisedML/blob/main/NMI%26ARI.ipynb\" target=\"_parent\"><img src=\"https://colab.research.google.com/assets/colab-badge.svg\" alt=\"Open In Colab\"/></a>"
      ]
    },
    {
      "cell_type": "code",
      "execution_count": 1,
      "metadata": {
        "colab": {
          "base_uri": "https://localhost:8080/"
        },
        "id": "VVT0hf1GNg7I",
        "outputId": "8707401e-4bbf-477b-f81b-b0708e1efbc9"
      },
      "outputs": [
        {
          "output_type": "stream",
          "name": "stdout",
          "text": [
            "Normalized Mutual Information Score: 0.6666666666666666\n"
          ]
        }
      ],
      "source": [
        "import numpy as np\n",
        "from sklearn.metrics import normalized_mutual_info_score\n",
        "\n",
        "data = np.array([[1, 2], [4, 5], [7, 8], [9, 10]])\n",
        "true_labels = np.array([0, 1, 0, 2])\n",
        "predicted_labels = np.array([1, 1, 2, 0])\n",
        "\n",
        "# Calculated Normalized Mutual Information\n",
        "nmi = normalized_mutual_info_score(true_labels, predicted_labels)\n",
        "\n",
        "print(\"Normalized Mutual Information Score:\", nmi)\n"
      ]
    },
    {
      "cell_type": "code",
      "source": [
        "import numpy as np\n",
        "from sklearn.metrics import adjusted_rand_score\n",
        "\n",
        "data = np.array([[1, 2], [4, 5], [7, 8], [9, 10]])\n",
        "true_labels = np.array([0, 1, 0, 2])\n",
        "predicted_labels = np.array([1, 1, 2, 0])\n",
        "\n",
        "# Calculate Adjusted Random Index\n",
        "ARI = adjusted_rand_score(true_labels, predicted_labels)\n",
        "\n",
        "print(\"Adjusted Random Index Score:\", ARI)\n"
      ],
      "metadata": {
        "colab": {
          "base_uri": "https://localhost:8080/"
        },
        "id": "j2-qBUyVPDJk",
        "outputId": "751740e4-5947-49c7-ad6e-0bbbb53c903a"
      },
      "execution_count": 2,
      "outputs": [
        {
          "output_type": "stream",
          "name": "stdout",
          "text": [
            "Adjusted Random Index Score: -0.2\n"
          ]
        }
      ]
    }
  ]
}