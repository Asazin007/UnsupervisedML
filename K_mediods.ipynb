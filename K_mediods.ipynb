{
  "nbformat": 4,
  "nbformat_minor": 0,
  "metadata": {
    "colab": {
      "provenance": [],
      "authorship_tag": "ABX9TyPWU7kbFR3SuPmELPguYUUV",
      "include_colab_link": true
    },
    "kernelspec": {
      "name": "python3",
      "display_name": "Python 3"
    },
    "language_info": {
      "name": "python"
    }
  },
  "cells": [
    {
      "cell_type": "markdown",
      "metadata": {
        "id": "view-in-github",
        "colab_type": "text"
      },
      "source": [
        "<a href=\"https://colab.research.google.com/github/Asazin007/UnsupervisedML/blob/main/K_mediods.ipynb\" target=\"_parent\"><img src=\"https://colab.research.google.com/assets/colab-badge.svg\" alt=\"Open In Colab\"/></a>"
      ]
    },
    {
      "cell_type": "code",
      "execution_count": 1,
      "metadata": {
        "id": "e5jyb0dC8sYZ"
      },
      "outputs": [],
      "source": [
        "import numpy as np"
      ]
    },
    {
      "cell_type": "code",
      "source": [
        "import numpy as np\n",
        "\n",
        "def k_medoids_cluster(data, k, max_iters=10):\n",
        "    n_samples, n_features = data.shape\n",
        "\n",
        "    # Step 1: Initialize k medoids randomly\n",
        "    medoid_indices = np.random.choice(n_samples, size=k, replace=False)\n",
        "    medoids = data[medoid_indices]\n",
        "\n",
        "    for _ in range(max_iters):\n",
        "        # Step 3: Assign each data point to the nearest medoid\n",
        "        distances = np.linalg.norm(data[:, np.newaxis] - medoids, axis=2)\n",
        "        cluster_assignments = np.argmin(distances, axis=1) # returns indices of the min element of the array in a particular axis\n",
        "\n",
        "        # Step 4: Update medoids\n",
        "        new_medoids = np.copy(medoids)\n",
        "        for cluster in range(k):\n",
        "            cluster_points = data[cluster_assignments == cluster]\n",
        "            total_distances = np.sum(np.linalg.norm(cluster_points[:, np.newaxis] - cluster_points, axis=2), axis=1)\n",
        "            new_medoid_index = cluster_points[np.argmin(total_distances)]\n",
        "            new_medoids[cluster] = new_medoid_index\n",
        "\n",
        "        # Step 5: Check for convergence\n",
        "        if np.all(medoids == new_medoids):\n",
        "            break\n",
        "        medoids = new_medoids\n",
        "\n",
        "    return cluster_assignments, medoids\n",
        "data = np.array([[1, 2], [2, 3], [8, 7], [10, 8], [12, 10]])\n",
        "k = 2\n",
        "cluster_assignments, medoids = k_medoids_cluster(data, k)\n",
        "print(\"Cluster Assignments:\", cluster_assignments)\n",
        "print(\"Medoids:\", medoids)"
      ],
      "metadata": {
        "colab": {
          "base_uri": "https://localhost:8080/"
        },
        "id": "ch13J-Yr-Py0",
        "outputId": "ba9d4306-7008-4b67-f6c7-dbe09e2a86a3"
      },
      "execution_count": 2,
      "outputs": [
        {
          "output_type": "stream",
          "name": "stdout",
          "text": [
            "Cluster Assignments: [0 0 1 1 1]\n",
            "Medoids: [[ 1  2]\n",
            " [10  8]]\n"
          ]
        }
      ]
    }
  ]
}